{
 "cells": [
  {
   "cell_type": "markdown",
   "id": "0ff3e258-a38e-4837-a440-fdfeee48f04b",
   "metadata": {},
   "source": [
    "1+1"
   ]
  },
  {
   "cell_type": "markdown",
   "id": "04a40197-787c-4365-827d-74b68504d0e9",
   "metadata": {
    "tags": []
   },
   "source": [
    "12^4\n"
   ]
  },
  {
   "cell_type": "markdown",
   "id": "25fc9dd8-19e3-4eb3-ab23-d62cb52c8718",
   "metadata": {},
   "source": [
    "my title\n"
   ]
  },
  {
   "cell_type": "markdown",
   "id": "0c001ff4-f8fb-4e10-9790-00513ee41ab9",
   "metadata": {},
   "source": [
    "m9^10"
   ]
  },
  {
   "cell_type": "markdown",
   "id": "eb09d8a4-5ac8-4af7-8877-4a71fe1fe473",
   "metadata": {},
   "source": [
    "<a href=\"https://dataplatform.cloud.ibm.com/gallery\">IBM Cloud Gallery</a>"
   ]
  },
  {
   "cell_type": "code",
   "execution_count": 1,
   "id": "d63d6f1a-b0e5-49c4-a43a-c2bfa101587d",
   "metadata": {
    "collapsed": true,
    "jupyter": {
     "outputs_hidden": true,
     "source_hidden": true
    },
    "tags": []
   },
   "outputs": [
    {
     "ename": "",
     "evalue": "",
     "execution_count": 1,
     "output_type": "error",
     "status": "error",
     "traceback": [
      "error: <Cell 1>:1:1: error: use of unresolved identifier 'm'\nm\n^\n\n"
     ]
    }
   ],
   "source": []
  },
  {
   "cell_type": "markdown",
   "id": "9a75a0f5-77e4-45b1-a906-034d2fc2ed42",
   "metadata": {},
   "source": [
    " # Header 1\n",
    " "
   ]
  },
  {
   "cell_type": "markdown",
   "id": "f8af82eb-f863-4288-bf8b-fdfd515ead61",
   "metadata": {},
   "source": [
    "| header | header |\n",
    "| ------ | ------ |\n",
    "| cell | cell |"
   ]
  },
  {
   "cell_type": "markdown",
   "id": "bc53bee6-e7a1-4f3d-bd59-5c5b476e16ce",
   "metadata": {},
   "source": [
    "| header | header | header |\n",
    "| ------ | ------ | ------ |\n",
    "| cell | cell | cell |\n",
    "|cell|cell|cell|"
   ]
  },
  {
   "cell_type": "code",
   "execution_count": null,
   "id": "1599e0ee-1bbd-4035-903a-9a69347b652b",
   "metadata": {},
   "outputs": [],
   "source": []
  }
 ],
 "metadata": {
  "kernelspec": {
   "display_name": "Swift",
   "language": "swift",
   "name": "conda-env-swift-swift"
  },
  "language_info": {
   "file_extension": ".swift",
   "mimetype": "text/x-swift",
   "name": "swift",
   "version": ""
  }
 },
 "nbformat": 4,
 "nbformat_minor": 5
}
