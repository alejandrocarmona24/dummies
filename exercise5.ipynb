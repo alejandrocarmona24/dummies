{
 "cells": [
  {
   "cell_type": "markdown",
   "id": "0ff3e258-a38e-4837-a440-fdfeee48f04b",
   "metadata": {},
   "source": [
    "1+1"
   ]
  },
  {
   "cell_type": "markdown",
   "id": "04a40197-787c-4365-827d-74b68504d0e9",
   "metadata": {
    "tags": []
   },
   "source": [
    "12^4\n"
   ]
  },
  {
   "cell_type": "markdown",
   "id": "25fc9dd8-19e3-4eb3-ab23-d62cb52c8718",
   "metadata": {},
   "source": [
    "my title\n"
   ]
  },
  {
   "cell_type": "markdown",
   "id": "0c001ff4-f8fb-4e10-9790-00513ee41ab9",
   "metadata": {},
   "source": [
    "m9^10"
   ]
  },
  {
   "cell_type": "code",
   "execution_count": null,
   "id": "cd4a3c23-c966-49e0-bb80-1fd7c389c3e0",
   "metadata": {},
   "outputs": [],
   "source": []
  }
 ],
 "metadata": {
  "kernelspec": {
   "display_name": "Python",
   "language": "python",
   "name": "conda-env-python-py"
  },
  "language_info": {
   "codemirror_mode": {
    "name": "ipython",
    "version": 3
   },
   "file_extension": ".py",
   "mimetype": "text/x-python",
   "name": "python",
   "nbconvert_exporter": "python",
   "pygments_lexer": "ipython3",
   "version": "3.7.12"
  }
 },
 "nbformat": 4,
 "nbformat_minor": 5
}
